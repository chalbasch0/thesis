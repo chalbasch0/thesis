{
 "cells": [
  {
   "cell_type": "markdown",
   "metadata": {},
   "source": [
    "# Intro:\n",
    "\n",
    "Welcome to an outline of some preliminary EDA I did for my thesis. My thesis focused on answering the question, are data privacy protection laws sufficient incentives for companies to prevent data breaches? The following exercise, while certainly not rigorous by any standard, has some worrying implications that the GDPR & CCPA are not addressing the root cause of the problem."
   ]
  },
  {
   "cell_type": "code",
   "execution_count": 15,
   "metadata": {},
   "outputs": [
    {
     "data": {
      "text/plain": [
       "<Figure size 432x288 with 0 Axes>"
      ]
     },
     "metadata": {},
     "output_type": "display_data"
    }
   ],
   "source": [
    "import seaborn as sns\n",
    "import pandas as pd\n",
    "import numpy as np\n",
    "from matplotlib import pyplot as plt\n",
    "sns.set(style='whitegrid')\n",
    "sns.despine()"
   ]
  },
  {
   "cell_type": "code",
   "execution_count": 16,
   "metadata": {},
   "outputs": [
    {
     "data": {
      "text/html": [
       "<div>\n",
       "<style scoped>\n",
       "    .dataframe tbody tr th:only-of-type {\n",
       "        vertical-align: middle;\n",
       "    }\n",
       "\n",
       "    .dataframe tbody tr th {\n",
       "        vertical-align: top;\n",
       "    }\n",
       "\n",
       "    .dataframe thead th {\n",
       "        text-align: right;\n",
       "    }\n",
       "</style>\n",
       "<table border=\"1\" class=\"dataframe\">\n",
       "  <thead>\n",
       "    <tr style=\"text-align: right;\">\n",
       "      <th></th>\n",
       "      <th>industry</th>\n",
       "      <th>records</th>\n",
       "    </tr>\n",
       "  </thead>\n",
       "  <tbody>\n",
       "    <tr>\n",
       "      <th>0</th>\n",
       "      <td>Clinical Laboratory</td>\n",
       "      <td>11900000</td>\n",
       "    </tr>\n",
       "    <tr>\n",
       "      <th>1</th>\n",
       "      <td>Consumer Goods</td>\n",
       "      <td>150000000</td>\n",
       "    </tr>\n",
       "    <tr>\n",
       "      <th>2</th>\n",
       "      <td>Question &amp; Answer</td>\n",
       "      <td>100000000</td>\n",
       "    </tr>\n",
       "    <tr>\n",
       "      <th>3</th>\n",
       "      <td>Telephone directory</td>\n",
       "      <td>299055000</td>\n",
       "    </tr>\n",
       "    <tr>\n",
       "      <th>4</th>\n",
       "      <td>academic</td>\n",
       "      <td>7140540</td>\n",
       "    </tr>\n",
       "    <tr>\n",
       "      <th>5</th>\n",
       "      <td>advertising</td>\n",
       "      <td>75000</td>\n",
       "    </tr>\n",
       "    <tr>\n",
       "      <th>6</th>\n",
       "      <td>background check</td>\n",
       "      <td>56000000</td>\n",
       "    </tr>\n",
       "    <tr>\n",
       "      <th>7</th>\n",
       "      <td>banking</td>\n",
       "      <td>90000</td>\n",
       "    </tr>\n",
       "    <tr>\n",
       "      <th>8</th>\n",
       "      <td>consulting, accounting</td>\n",
       "      <td>350</td>\n",
       "    </tr>\n",
       "    <tr>\n",
       "      <th>9</th>\n",
       "      <td>data broker</td>\n",
       "      <td>340000000</td>\n",
       "    </tr>\n",
       "    <tr>\n",
       "      <th>10</th>\n",
       "      <td>energy</td>\n",
       "      <td>13010000</td>\n",
       "    </tr>\n",
       "    <tr>\n",
       "      <th>11</th>\n",
       "      <td>fashion</td>\n",
       "      <td>123857</td>\n",
       "    </tr>\n",
       "    <tr>\n",
       "      <th>12</th>\n",
       "      <td>financial</td>\n",
       "      <td>810807083</td>\n",
       "    </tr>\n",
       "    <tr>\n",
       "      <th>13</th>\n",
       "      <td>financial service company</td>\n",
       "      <td>885000000</td>\n",
       "    </tr>\n",
       "    <tr>\n",
       "      <th>14</th>\n",
       "      <td>financial, credit reporting</td>\n",
       "      <td>143000000</td>\n",
       "    </tr>\n",
       "    <tr>\n",
       "      <th>15</th>\n",
       "      <td>gaming</td>\n",
       "      <td>126623989</td>\n",
       "    </tr>\n",
       "    <tr>\n",
       "      <th>16</th>\n",
       "      <td>genealogy</td>\n",
       "      <td>92283889</td>\n",
       "    </tr>\n",
       "    <tr>\n",
       "      <th>17</th>\n",
       "      <td>government</td>\n",
       "      <td>206706860</td>\n",
       "    </tr>\n",
       "    <tr>\n",
       "      <th>18</th>\n",
       "      <td>government, database</td>\n",
       "      <td>1500000</td>\n",
       "    </tr>\n",
       "    <tr>\n",
       "      <th>19</th>\n",
       "      <td>government, healthcare</td>\n",
       "      <td>9037378</td>\n",
       "    </tr>\n",
       "    <tr>\n",
       "      <th>20</th>\n",
       "      <td>government, military</td>\n",
       "      <td>26500000</td>\n",
       "    </tr>\n",
       "    <tr>\n",
       "      <th>21</th>\n",
       "      <td>healthcare</td>\n",
       "      <td>169021320</td>\n",
       "    </tr>\n",
       "    <tr>\n",
       "      <th>22</th>\n",
       "      <td>hotel</td>\n",
       "      <td>505563000</td>\n",
       "    </tr>\n",
       "    <tr>\n",
       "      <th>23</th>\n",
       "      <td>information technology</td>\n",
       "      <td>3000000000</td>\n",
       "    </tr>\n",
       "    <tr>\n",
       "      <th>24</th>\n",
       "      <td>local search</td>\n",
       "      <td>100000000</td>\n",
       "    </tr>\n",
       "    <tr>\n",
       "      <th>25</th>\n",
       "      <td>market analysis</td>\n",
       "      <td>120000000</td>\n",
       "    </tr>\n",
       "    <tr>\n",
       "      <th>26</th>\n",
       "      <td>media</td>\n",
       "      <td>1270000</td>\n",
       "    </tr>\n",
       "    <tr>\n",
       "      <th>27</th>\n",
       "      <td>messaging app</td>\n",
       "      <td>162000000</td>\n",
       "    </tr>\n",
       "    <tr>\n",
       "      <th>28</th>\n",
       "      <td>military</td>\n",
       "      <td>77448000</td>\n",
       "    </tr>\n",
       "    <tr>\n",
       "      <th>29</th>\n",
       "      <td>military, healthcare</td>\n",
       "      <td>4901432</td>\n",
       "    </tr>\n",
       "    <tr>\n",
       "      <th>30</th>\n",
       "      <td>mobile carrier</td>\n",
       "      <td>900000</td>\n",
       "    </tr>\n",
       "    <tr>\n",
       "      <th>31</th>\n",
       "      <td>phone accessories</td>\n",
       "      <td>377428</td>\n",
       "    </tr>\n",
       "    <tr>\n",
       "      <th>32</th>\n",
       "      <td>political</td>\n",
       "      <td>19252</td>\n",
       "    </tr>\n",
       "    <tr>\n",
       "      <th>33</th>\n",
       "      <td>restaurant</td>\n",
       "      <td>2000000</td>\n",
       "    </tr>\n",
       "    <tr>\n",
       "      <th>34</th>\n",
       "      <td>retail</td>\n",
       "      <td>372584649</td>\n",
       "    </tr>\n",
       "    <tr>\n",
       "      <th>35</th>\n",
       "      <td>social network</td>\n",
       "      <td>1038000000</td>\n",
       "    </tr>\n",
       "    <tr>\n",
       "      <th>36</th>\n",
       "      <td>social networking</td>\n",
       "      <td>14870304</td>\n",
       "    </tr>\n",
       "    <tr>\n",
       "      <th>37</th>\n",
       "      <td>tech</td>\n",
       "      <td>1000898000</td>\n",
       "    </tr>\n",
       "    <tr>\n",
       "      <th>38</th>\n",
       "      <td>tech, retail</td>\n",
       "      <td>12567232</td>\n",
       "    </tr>\n",
       "    <tr>\n",
       "      <th>39</th>\n",
       "      <td>tech, web</td>\n",
       "      <td>22000000</td>\n",
       "    </tr>\n",
       "    <tr>\n",
       "      <th>40</th>\n",
       "      <td>telecommunications</td>\n",
       "      <td>100000000</td>\n",
       "    </tr>\n",
       "    <tr>\n",
       "      <th>41</th>\n",
       "      <td>telecoms</td>\n",
       "      <td>50637000</td>\n",
       "    </tr>\n",
       "    <tr>\n",
       "      <th>42</th>\n",
       "      <td>ticket distribution</td>\n",
       "      <td>26151608</td>\n",
       "    </tr>\n",
       "    <tr>\n",
       "      <th>43</th>\n",
       "      <td>transport</td>\n",
       "      <td>66972000</td>\n",
       "    </tr>\n",
       "    <tr>\n",
       "      <th>44</th>\n",
       "      <td>web</td>\n",
       "      <td>4929813989</td>\n",
       "    </tr>\n",
       "    <tr>\n",
       "      <th>45</th>\n",
       "      <td>web, gaming</td>\n",
       "      <td>32000000</td>\n",
       "    </tr>\n",
       "    <tr>\n",
       "      <th>46</th>\n",
       "      <td>web, military</td>\n",
       "      <td>163792</td>\n",
       "    </tr>\n",
       "    <tr>\n",
       "      <th>47</th>\n",
       "      <td>web, tech</td>\n",
       "      <td>4700000</td>\n",
       "    </tr>\n",
       "  </tbody>\n",
       "</table>\n",
       "</div>"
      ],
      "text/plain": [
       "                       industry     records\n",
       "0           Clinical Laboratory    11900000\n",
       "1                Consumer Goods   150000000\n",
       "2             Question & Answer   100000000\n",
       "3           Telephone directory   299055000\n",
       "4                      academic     7140540\n",
       "5                   advertising       75000\n",
       "6              background check    56000000\n",
       "7                       banking       90000\n",
       "8        consulting, accounting         350\n",
       "9                   data broker   340000000\n",
       "10                       energy    13010000\n",
       "11                      fashion      123857\n",
       "12                    financial   810807083\n",
       "13    financial service company   885000000\n",
       "14  financial, credit reporting   143000000\n",
       "15                       gaming   126623989\n",
       "16                    genealogy    92283889\n",
       "17                   government   206706860\n",
       "18         government, database     1500000\n",
       "19       government, healthcare     9037378\n",
       "20         government, military    26500000\n",
       "21                   healthcare   169021320\n",
       "22                        hotel   505563000\n",
       "23       information technology  3000000000\n",
       "24                 local search   100000000\n",
       "25              market analysis   120000000\n",
       "26                        media     1270000\n",
       "27                messaging app   162000000\n",
       "28                     military    77448000\n",
       "29         military, healthcare     4901432\n",
       "30               mobile carrier      900000\n",
       "31            phone accessories      377428\n",
       "32                    political       19252\n",
       "33                   restaurant     2000000\n",
       "34                       retail   372584649\n",
       "35               social network  1038000000\n",
       "36            social networking    14870304\n",
       "37                         tech  1000898000\n",
       "38                 tech, retail    12567232\n",
       "39                    tech, web    22000000\n",
       "40           telecommunications   100000000\n",
       "41                     telecoms    50637000\n",
       "42          ticket distribution    26151608\n",
       "43                    transport    66972000\n",
       "44                          web  4929813989\n",
       "45                  web, gaming    32000000\n",
       "46                web, military      163792\n",
       "47                    web, tech     4700000"
      ]
     },
     "execution_count": 16,
     "metadata": {},
     "output_type": "execute_result"
    }
   ],
   "source": [
    "# Data scraped from a Wikipedia report (https://en.wikipedia.org/wiki/List_of_data_breaches)\n",
    "\n",
    "df = pd.read_excel(r\"C:\\Users\\Chris\\Desktop\\projects\\thesis\\bin\\data_breaches.xlsx\")\n",
    "groups = df['industry']\n",
    "## Getting industry sums to see worst offenders\n",
    "industries = df.groupby('industry').records.sum()\n",
    "industries = pd.DataFrame(industries)\n",
    "industries = industries.reset_index()\n",
    "industries"
   ]
  },
  {
   "cell_type": "code",
   "execution_count": 17,
   "metadata": {},
   "outputs": [
    {
     "data": {
      "text/html": [
       "<div>\n",
       "<style scoped>\n",
       "    .dataframe tbody tr th:only-of-type {\n",
       "        vertical-align: middle;\n",
       "    }\n",
       "\n",
       "    .dataframe tbody tr th {\n",
       "        vertical-align: top;\n",
       "    }\n",
       "\n",
       "    .dataframe thead th {\n",
       "        text-align: right;\n",
       "    }\n",
       "</style>\n",
       "<table border=\"1\" class=\"dataframe\">\n",
       "  <thead>\n",
       "    <tr style=\"text-align: right;\">\n",
       "      <th></th>\n",
       "      <th>year</th>\n",
       "      <th>records</th>\n",
       "    </tr>\n",
       "  </thead>\n",
       "  <tbody>\n",
       "    <tr>\n",
       "      <th>count</th>\n",
       "      <td>278.000000</td>\n",
       "      <td>2.780000e+02</td>\n",
       "    </tr>\n",
       "    <tr>\n",
       "      <th>mean</th>\n",
       "      <td>2013.046763</td>\n",
       "      <td>5.429393e+07</td>\n",
       "    </tr>\n",
       "    <tr>\n",
       "      <th>std</th>\n",
       "      <td>4.024470</td>\n",
       "      <td>2.674723e+08</td>\n",
       "    </tr>\n",
       "    <tr>\n",
       "      <th>min</th>\n",
       "      <td>2004.000000</td>\n",
       "      <td>3.500000e+02</td>\n",
       "    </tr>\n",
       "    <tr>\n",
       "      <th>25%</th>\n",
       "      <td>2010.000000</td>\n",
       "      <td>2.637500e+05</td>\n",
       "    </tr>\n",
       "    <tr>\n",
       "      <th>50%</th>\n",
       "      <td>2013.000000</td>\n",
       "      <td>1.950000e+06</td>\n",
       "    </tr>\n",
       "    <tr>\n",
       "      <th>75%</th>\n",
       "      <td>2016.000000</td>\n",
       "      <td>1.500000e+07</td>\n",
       "    </tr>\n",
       "    <tr>\n",
       "      <th>max</th>\n",
       "      <td>2020.000000</td>\n",
       "      <td>3.000000e+09</td>\n",
       "    </tr>\n",
       "  </tbody>\n",
       "</table>\n",
       "</div>"
      ],
      "text/plain": [
       "              year       records\n",
       "count   278.000000  2.780000e+02\n",
       "mean   2013.046763  5.429393e+07\n",
       "std       4.024470  2.674723e+08\n",
       "min    2004.000000  3.500000e+02\n",
       "25%    2010.000000  2.637500e+05\n",
       "50%    2013.000000  1.950000e+06\n",
       "75%    2016.000000  1.500000e+07\n",
       "max    2020.000000  3.000000e+09"
      ]
     },
     "execution_count": 17,
     "metadata": {},
     "output_type": "execute_result"
    }
   ],
   "source": [
    "#Some summary statistics\n",
    "df.describe()"
   ]
  },
  {
   "cell_type": "code",
   "execution_count": 18,
   "metadata": {},
   "outputs": [
    {
     "data": {
      "text/plain": [
       "Text(0, 0.5, 'Frequency')"
      ]
     },
     "execution_count": 18,
     "metadata": {},
     "output_type": "execute_result"
    },
    {
     "data": {
      "image/png": "[encoded data removed]",
      "text/plain": [
       "<Figure size 432x288 with 1 Axes>"
      ]
     },
     "metadata": {},
     "output_type": "display_data"
    }
   ],
   "source": [
    "#removing outliers\n",
    "import scipy.stats as stats\n",
    "zscores = stats.zscore(df['records'])\n",
    "abs_zscores = np.abs(zscores)\n",
    "filtered =abs_zscores < 3\n",
    "new_df=df[filtered]\n",
    "\n",
    "#Filtering out some of the noise so we can look at more typical industries.\n",
    "filters = ['healthcare','web','government','financial','academic','social network']\n",
    "new_df2 = new_df[new_df.industry.isin(filters)]\n",
    "reason_filters = ['hacked','poor security','inside job', 'social engineering']\n",
    "new_df2 = new_df2[new_df2.reason.isin(reason_filters)]\n",
    "new_df2\n",
    "\n",
    "#Plotting frequencies\n",
    "sns.countplot( x=\"industry\", data=new_df2)\n",
    "plt.title('Frequencies - Top Industries')\n",
    "plt.ylabel('Frequency')"
   ]
  },
  {
   "cell_type": "code",
   "execution_count": 19,
   "metadata": {},
   "outputs": [
    {
     "data": {
      "text/plain": [
       "<matplotlib.axes._subplots.AxesSubplot at 0x21e97c480b8>"
      ]
     },
     "execution_count": 19,
     "metadata": {},
     "output_type": "execute_result"
    },
    {
     "data": {
      "image/png": "[encoded data removed]",
      "text/plain": [
       "<Figure size 432x288 with 1 Axes>"
      ]
     },
     "metadata": {},
     "output_type": "display_data"
    }
   ],
   "source": [
    "#What's the frequency of each reason why records were lost?\n",
    "sns.countplot(x='reason',data=new_df2)"
   ]
  },
  {
   "cell_type": "markdown",
   "metadata": {},
   "source": [
    "# Interpretation\n",
    "So, we see that the web and finance industries have the most occurrences, with healthcare a close third. Interestingly, we see that hacking is the most commonly reported reason for data breaches. However, is hacking responsible for the most amount of records lost?"
   ]
  },
  {
   "cell_type": "code",
   "execution_count": 12,
   "metadata": {},
   "outputs": [
    {
     "data": {
      "text/plain": [
       "Text(0.5, 1, 'Records Lost by Reason')"
      ]
     },
     "execution_count": 12,
     "metadata": {},
     "output_type": "execute_result"
    },
    {
     "data": {
      "image/png": "[encoded data removed]",
      "text/plain": [
       "<Figure size 488.475x360 with 1 Axes>"
      ]
     },
     "metadata": {
      "needs_background": "light"
     },
     "output_type": "display_data"
    }
   ],
   "source": [
    "## GLM of reasons over time\n",
    "sns.lmplot(x='year',y='records',fit_reg =True, data=new_df2,hue='reason',ci=None,truncate=True)\n",
    "plt.ticklabel_format(axis='y',style='sci', scilimits=(6,6))\n",
    "plt.ylabel('records, in millions')\n",
    "plt.xlabel('year')\n",
    "plt.title('Records Lost by Reason')"
   ]
  },
  {
   "cell_type": "markdown",
   "metadata": {},
   "source": [
    "# Interpretation\n",
    "Notice the upward trend for poor security. While data are scarce for the particular subject, the directional implications are worrying. It appears that lack of security is positively correlated with the total amount of records lost. Simply put, it looks like it's not skilled hackers who steal the most information, it's inattentive companies who end up losing it inadvertenly. \n",
    "\n",
    "# Next Steps\n",
    "The GDPR and similar legislation, ideally, should be reducing the overall amount of information lost, as that's the law's primary purpose (data integrity, protection, and privacy). Let's look at the trend over time:"
   ]
  },
  {
   "cell_type": "code",
   "execution_count": 13,
   "metadata": {},
   "outputs": [
    {
     "data": {
      "image/png": "[encoded data removed]",
      "text/plain": [
       "<Figure size 432x288 with 1 Axes>"
      ]
     },
     "metadata": {
      "needs_background": "light"
     },
     "output_type": "display_data"
    }
   ],
   "source": [
    "sns.lineplot(df['year'],df['records'], label='records lost', ci=None)\n",
    "plt.ticklabel_format(axis='y',style='sci', scilimits=(6,6))\n",
    "plt.axvline(x=2018,color='k',linestyle='--')\n",
    "plt.text(2014,99999990,'GDPR Enacted',rotation=0)\n",
    "plt.ylabel('records, in millions')\n",
    "plt.title('Data Breaches - Records Lost')\n",
    "sns.despine()"
   ]
  },
  {
   "cell_type": "markdown",
   "metadata": {},
   "source": [
    "If anything, the trend is showing the opposite, with a practically exponential amount of growth in total records lost over time. Granted, this could be because companies are now reporting a lot more than they used to, which would indicate the GDPR's effectiveness in promoting accountability. Nevertheless, the fundamental problem appears to be worse than previously thought. \n",
    "\n",
    "# Conclusion\n",
    "\n",
    "Legislation should be enacted to provide stiffer incentives for proper security measures to be implemented (i.e. fines for lack of compliance), and a set of standardized best practices should be adopted across industries to prevent data breaches from occurring before they have to get reported."
   ]
  }
 ],
 "metadata": {
  "kernelspec": {
   "display_name": "Python 3",
   "language": "python",
   "name": "python3"
  },
  "language_info": {
   "codemirror_mode": {
    "name": "ipython",
    "version": 3
   },
   "file_extension": ".py",
   "mimetype": "text/x-python",
   "name": "python",
   "nbconvert_exporter": "python",
   "pygments_lexer": "ipython3",
   "version": "3.7.3"
  }
 },
 "nbformat": 4,
 "nbformat_minor": 2
}
